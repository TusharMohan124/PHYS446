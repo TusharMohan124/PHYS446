{
 "cells": [
  {
   "cell_type": "code",
   "execution_count": 1,
   "id": "c91805af",
   "metadata": {},
   "outputs": [],
   "source": [
    "import numpy as np\n",
    "from numpy import random\n",
    "import matplotlib.pyplot as plt\n",
    "import gzip\n",
    "import sys"
   ]
  },
  {
   "cell_type": "code",
   "execution_count": 16,
   "id": "6acfa6fc",
   "metadata": {},
   "outputs": [],
   "source": [
    "def PrettyPrintBinary(myState):\n",
    "    output = \"(\"\n",
    "    for i in range(len(myState)):\n",
    "        if i > 0:\n",
    "            output += \" + \"\n",
    "\n",
    "        output += f\"{myState[i][0]} |{myState[i][1]}>\"\n",
    "    \n",
    "    output += \")\"\n",
    "\n",
    "    print(output)\n",
    "\n",
    "def PrettyPrintInteger(myState):\n",
    "    output = \"(\"\n",
    "    for i in range(len(myState)):\n",
    "        if i > 0:\n",
    "            output += \" + \"\n",
    "\n",
    "        output += f\"{myState[i][0]} |{int(myState[i][1],2)}>\"\n",
    "    \n",
    "    output += \")\"\n",
    "\n",
    "    print(output)"
   ]
  },
  {
   "cell_type": "code",
   "execution_count": 19,
   "id": "571683f0",
   "metadata": {},
   "outputs": [
    {
     "name": "stdout",
     "output_type": "stream",
     "text": [
      "(0.31622776601683794j |101> + 0.7071067811865476 |000> + -0.6324555320336759 |010>)\n",
      "(0.31622776601683794j |5> + 0.7071067811865476 |0> + -0.6324555320336759 |2>)\n"
     ]
    }
   ],
   "source": [
    "myState2=[\n",
    "   (np.sqrt(0.1)*1.j, '101'),\n",
    "   (np.sqrt(0.5), '000') ,\n",
    "   (-np.sqrt(0.4), '010' )]\n",
    "\n",
    "PrettyPrintBinary(myState2)\n",
    "PrettyPrintInteger(myState2)"
   ]
  },
  {
   "cell_type": "code",
   "execution_count": 66,
   "id": "9c79af1c",
   "metadata": {},
   "outputs": [],
   "source": [
    "def DiracToVec(myState):\n",
    "\n",
    "    n = len(myState[0][1])\n",
    "\n",
    "    output = np.zeros(2**n, dtype=np.complex128)\n",
    "    \n",
    "    for vec in myState:\n",
    "        output[int(vec[1],2)] = vec[0]\n",
    "    \n",
    "    return output\n",
    "\n",
    "def VecToDirac(vec):\n",
    "\n",
    "    n = int(np.log2(len(vec)))\n",
    "\n",
    "    basis = [bin(i)[2:].zfill(n) for i in range(len(vec))]\n",
    "    output = []\n",
    "\n",
    "    for i in range(len(vec)):\n",
    "        if not vec[i] == 0. +0.j:\n",
    "            output.append((vec[i], basis[i]))\n",
    "\n",
    "    return output\n",
    "\n",
    "\n",
    "\n",
    "    \n"
   ]
  },
  {
   "cell_type": "code",
   "execution_count": 69,
   "id": "27705055",
   "metadata": {},
   "outputs": [
    {
     "name": "stdout",
     "output_type": "stream",
     "text": [
      "[ 0.70710678+0.j          0.        +0.j         -0.63245553+0.j\n",
      "  0.        +0.j          0.        +0.j          0.        +0.31622777j\n",
      "  0.        +0.j          0.        +0.j        ]\n",
      "[(np.complex128(0.7071067811865476+0j), '000'), (np.complex128(-0.6324555320336759+0j), '010'), (np.complex128(0.31622776601683794j), '101')]\n"
     ]
    }
   ],
   "source": [
    "print(DiracToVec(myState2))\n",
    "print(VecToDirac(DiracToVec(myState2)))\n"
   ]
  },
  {
   "cell_type": "code",
   "execution_count": null,
   "id": "b0a1cf1c",
   "metadata": {},
   "outputs": [],
   "source": []
  }
 ],
 "metadata": {
  "kernelspec": {
   "display_name": "Python 3",
   "language": "python",
   "name": "python3"
  },
  "language_info": {
   "codemirror_mode": {
    "name": "ipython",
    "version": 3
   },
   "file_extension": ".py",
   "mimetype": "text/x-python",
   "name": "python",
   "nbconvert_exporter": "python",
   "pygments_lexer": "ipython3",
   "version": "3.13.7"
  }
 },
 "nbformat": 4,
 "nbformat_minor": 5
}
