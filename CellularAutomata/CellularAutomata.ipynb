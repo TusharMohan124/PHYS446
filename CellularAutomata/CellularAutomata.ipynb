{
 "cells": [
  {
   "cell_type": "code",
   "execution_count": 1,
   "id": "2cf6c44d",
   "metadata": {},
   "outputs": [],
   "source": [
    "import numpy as np\n",
    "from numpy import random\n",
    "import matplotlib.pyplot as plt\n"
   ]
  },
  {
   "cell_type": "code",
   "execution_count": 2,
   "id": "dcc0018a",
   "metadata": {},
   "outputs": [],
   "source": [
    "class Simulation:\n",
    "\n",
    "    def __init__(self, length = 100, width=100, box=np.zeros((100, 100))):\n",
    "        \n",
    "        if not box.shape == (length,width):\n",
    "            raise ValueError(\"box dimensions must be (length,width)\")\n",
    "        \n",
    "        self.length=length\n",
    "        self.width=width\n",
    "        self.box = box\n",
    "\n",
    "    def reset(self):\n",
    "        self.box = np.zeros((self.length, self.width))\n",
    "    \n",
    "    def set_value(self, pos, val):\n",
    "\n",
    "        if not (val == 0 or val == 1):\n",
    "            raise ValueError(\"val must be 0 or 1\")\n",
    "        \n",
    "        self.box[pos[0], pos[1]] = val\n",
    "    \n",
    "    def flip_pos(self, pos):\n",
    "\n",
    "        self.box[pos[0], pos[1]] = (self.box[pos[0], pos[1]] + 1) % 2\n",
    "    \n",
    "    def random_flip(self):\n",
    "\n",
    "        #Find random neighbor pair \n",
    "\n",
    "        random_pos = np.array([np.random.randint(0,self.length), np.random.randint(0,self.width)])\n",
    "        valid_orientation = False\n",
    "\n",
    "        orientations = np.array([[0,1], [0,-1], [1,0], [-1,0]])\n",
    "\n",
    "        while not valid_orientation:\n",
    "            random_index =int(np.random.randint(0,len(orientations)))\n",
    "           \n",
    "\n",
    "            random_neighbor = random_pos + np.array(orientations[random_index])\n",
    "\n",
    "            if random_neighbor[0] > -1 and random_neighbor[0] < self.length and random_neighbor[1] > -1 and random_neighbor[1] < self.width:\n",
    "                valid_orientation=True\n",
    "            else:\n",
    "                np.delete(orientations, random_index)\n",
    "\n",
    "        \n",
    "        #Flip neighbors\n",
    "\n",
    "        temp = self.box[random_pos[0], random_pos[1]]\n",
    "\n",
    "        self.box[random_pos[0], random_pos[1]] = self.box[random_neighbor[0], random_neighbor[1]]\n",
    "        self.box[random_neighbor[0], random_neighbor[1]]=temp\n",
    "    \n",
    "    def show(self, save=False, filename=\"test.png\"):\n",
    "        \n",
    "        plt.imshow(self.box)\n",
    "\n",
    "        if save:\n",
    "            plt.savefig(filename)\n",
    "        \n",
    "        plt.show()\n",
    "\n",
    "        \n",
    "    \n",
    "\n",
    "\n",
    "\n",
    "            \n",
    "\n",
    "\n",
    "        \n"
   ]
  },
  {
   "cell_type": "code",
   "execution_count": 9,
   "id": "e824a446",
   "metadata": {},
   "outputs": [
    {
     "data": {
      "image/png": "[encoded data removed]",
      "text/plain": [
       "<Figure size 640x480 with 1 Axes>"
      ]
     },
     "metadata": {},
     "output_type": "display_data"
    },
    {
     "data": {
      "image/png": "[encoded data removed]",
      "text/plain": [
       "<Figure size 640x480 with 1 Axes>"
      ]
     },
     "metadata": {},
     "output_type": "display_data"
    },
    {
     "ename": "KeyboardInterrupt",
     "evalue": "",
     "output_type": "error",
     "traceback": [
      "\u001b[31m---------------------------------------------------------------------------\u001b[39m",
      "\u001b[31mKeyboardInterrupt\u001b[39m                         Traceback (most recent call last)",
      "\u001b[36mCell\u001b[39m\u001b[36m \u001b[39m\u001b[32mIn[9]\u001b[39m\u001b[32m, line 14\u001b[39m\n\u001b[32m     12\u001b[39m     sim.show(save=\u001b[38;5;28;01mFalse\u001b[39;00m, filename=\u001b[33mf\u001b[39m\u001b[33m\"\u001b[39m\u001b[38;5;132;01m{\u001b[39;00mj\u001b[38;5;132;01m}\u001b[39;00m\u001b[33m_snapshot.png\u001b[39m\u001b[33m\"\u001b[39m)\n\u001b[32m     13\u001b[39m \u001b[38;5;28;01mfor\u001b[39;00m i \u001b[38;5;129;01min\u001b[39;00m \u001b[38;5;28mrange\u001b[39m(sim.length*sim.width):\n\u001b[32m---> \u001b[39m\u001b[32m14\u001b[39m     \u001b[43msim\u001b[49m\u001b[43m.\u001b[49m\u001b[43mrandom_flip\u001b[49m\u001b[43m(\u001b[49m\u001b[43m)\u001b[49m\n",
      "\u001b[36mCell\u001b[39m\u001b[36m \u001b[39m\u001b[32mIn[2]\u001b[39m\u001b[32m, line 30\u001b[39m, in \u001b[36mSimulation.random_flip\u001b[39m\u001b[34m(self)\u001b[39m\n\u001b[32m     26\u001b[39m \u001b[38;5;28;01mdef\u001b[39;00m\u001b[38;5;250m \u001b[39m\u001b[34mrandom_flip\u001b[39m(\u001b[38;5;28mself\u001b[39m):\n\u001b[32m     27\u001b[39m \n\u001b[32m     28\u001b[39m     \u001b[38;5;66;03m#Find random neighbor pair \u001b[39;00m\n\u001b[32m---> \u001b[39m\u001b[32m30\u001b[39m     random_pos = np.array([\u001b[43mnp\u001b[49m\u001b[43m.\u001b[49m\u001b[43mrandom\u001b[49m\u001b[43m.\u001b[49m\u001b[43mrandint\u001b[49m\u001b[43m(\u001b[49m\u001b[32;43m0\u001b[39;49m\u001b[43m,\u001b[49m\u001b[38;5;28;43mself\u001b[39;49m\u001b[43m.\u001b[49m\u001b[43mlength\u001b[49m\u001b[43m)\u001b[49m, np.random.randint(\u001b[32m0\u001b[39m,\u001b[38;5;28mself\u001b[39m.width)])\n\u001b[32m     31\u001b[39m     valid_orientation = \u001b[38;5;28;01mFalse\u001b[39;00m\n\u001b[32m     33\u001b[39m     orientations = np.array([[\u001b[32m0\u001b[39m,\u001b[32m1\u001b[39m], [\u001b[32m0\u001b[39m,-\u001b[32m1\u001b[39m], [\u001b[32m1\u001b[39m,\u001b[32m0\u001b[39m], [-\u001b[32m1\u001b[39m,\u001b[32m0\u001b[39m]])\n",
      "\u001b[31mKeyboardInterrupt\u001b[39m: "
     ]
    }
   ],
   "source": [
    "box = np.zeros((100,100))\n",
    "\n",
    "box[0:50,0:50]=1\n",
    "\n",
    "sim = Simulation(100,100, box)\n",
    "\n",
    "recordSweeps=np.array([0,100,200,400,800,1600,3200,4800,6400,8000])\n",
    "\n",
    "for j in range(10000):\n",
    "    \n",
    "    if np.any(np.isin(recordSweeps, j)):\n",
    "        sim.show(save=False, filename=f\"{j}_snapshot.png\")\n",
    "    for i in range(sim.length*sim.width):\n",
    "        sim.random_flip()\n",
    "\n",
    "    \n",
    "\n",
    "\n"
   ]
  },
  {
   "cell_type": "code",
   "execution_count": null,
   "id": "2476d357",
   "metadata": {},
   "outputs": [],
   "source": []
  }
 ],
 "metadata": {
  "kernelspec": {
   "display_name": ".venv",
   "language": "python",
   "name": "python3"
  },
  "language_info": {
   "codemirror_mode": {
    "name": "ipython",
    "version": 3
   },
   "file_extension": ".py",
   "mimetype": "text/x-python",
   "name": "python",
   "nbconvert_exporter": "python",
   "pygments_lexer": "ipython3",
   "version": "3.13.7"
  }
 },
 "nbformat": 4,
 "nbformat_minor": 5
}
